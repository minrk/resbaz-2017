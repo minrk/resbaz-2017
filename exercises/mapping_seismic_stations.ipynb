{
 "cells": [
  {
   "cell_type": "markdown",
   "metadata": {},
   "source": [
    "# Mapping seismic stations in the Himalayas with Numpy and Matplotlib\n",
    "## Or reading datasets with custom dtypes and plotting Earth-based data with basemap"
   ]
  },
  {
   "cell_type": "markdown",
   "metadata": {},
   "source": [
    "In this exercise, we consider loading measurement files with the format:\n",
    "\n",
    "<pre>\n",
    "station  lat    long   elev \n",
    "BIRA\t26.4840\t87.2670\t0.0120\n",
    "BUNG\t27.8771\t85.8909\t1.1910\n",
    "etc...\n",
    "</pre>\n",
    "\n",
    "These are seismic measurement stations in the Himalaya, with the elevation indicated in km.  Data with a structure such as this is common in many disciplines, and because we have a combination of text and numerical fields, we can't directly load it into a regular numpy array.\n",
    "\n",
    "But we can use pandas' ability to [read tabular data files](http://pandas.pydata.org/pandas-docs/stable/generated/pandas.read_csv.html) to load it into a DataFrame.\n",
    "\n",
    "If you have the basemap matplotlib toolkit installed, at the end of this example we will show a real Earth map and overlay the station locations on top of that.\n",
    "\n",
    "We start by configuring matplotlib support and loading the required modules."
   ]
  },
  {
   "cell_type": "code",
   "execution_count": null,
   "metadata": {
    "collapsed": false
   },
   "outputs": [],
   "source": [
    "%matplotlib inline\n",
    "import numpy as np\n",
    "import pandas as pd\n",
    "import matplotlib.pyplot as plt"
   ]
  },
  {
   "cell_type": "markdown",
   "metadata": {},
   "source": [
    "Now, we load the data using pandas"
   ]
  },
  {
   "cell_type": "code",
   "execution_count": null,
   "metadata": {
    "collapsed": false
   },
   "outputs": [],
   "source": [
    "import os\n",
    "data_fname = os.path.join('data', 'stations.txt')\n",
    "tab = pd.read_csv(data_fname, delim_whitespace=True)\n",
    "tab"
   ]
  },
  {
   "cell_type": "markdown",
   "metadata": {},
   "source": [
    "You can now print out key information about the stations. In addition to the information below, print the mean latitude of the stations (which you should be able to do with one command)."
   ]
  },
  {
   "cell_type": "code",
   "execution_count": null,
   "metadata": {
    "collapsed": false
   },
   "outputs": [],
   "source": [
    "ptitle = 'Seismic stations in the Himalaya'\n",
    "print(ptitle)\n",
    "print('Stations:', tab.station)\n",
    "print('Elevations (km):', tab.elev)\n",
    "print('First station:', tab[:1])"
   ]
  },
  {
   "cell_type": "markdown",
   "metadata": {},
   "source": [
    "Now we can use `matplotlib` to plot the relative locations of the stations. Create such a plot using `plt.scatter` (the $x$ \"coordinate\" should be the longitude, and the $y$ \"coordinate\" the latitude). Improve the appearance of the plot by\n",
    "\n",
    "1. Scaling the size of the points according to the elevation\n",
    "2. Coloring the points according to the elevation.\n",
    "3. Adding the \"name\" of the station as text to the plot, next to the point location."
   ]
  },
  {
   "cell_type": "code",
   "execution_count": null,
   "metadata": {
    "collapsed": false
   },
   "outputs": [],
   "source": [
    "f1, ax = plt.subplots(figsize = (8,5))\n",
    "\n",
    "# Make the size of the circles proportional to the elevation\n",
    "\n",
    "# Add scatter plot\n",
    "s = ax.scatter(...)\n",
    "\n",
    "# The colorbar must be associated with the return value of scatter()\n",
    "f1.colorbar(s)\n",
    "ax.set_title(ptitle)\n",
    "\n",
    "# Now add text labels for all the stations.  \n",
    "\n",
    "# Note: when accessing single elements of the data frame, the named field\n",
    "# syntax doesn't work and we must access the fields via record.station\n",
    "for i, record in tab.iterrows():\n",
    "    # Code here\n",
    "    pass"
   ]
  },
  {
   "cell_type": "markdown",
   "metadata": {},
   "source": [
    "To improve the plot further, we can use the `matplotlib` `basemap` toolkit. If you don't have it already installed and are using conda, then try\n",
    "\n",
    "```bash\n",
    "conda install basemap\n",
    "```\n",
    "\n",
    "Work through the code below to understand how the points are mapped onto the image and contours."
   ]
  },
  {
   "cell_type": "code",
   "execution_count": null,
   "metadata": {
    "collapsed": false
   },
   "outputs": [],
   "source": [
    "try:\n",
    "    from mpl_toolkits.basemap import Basemap\n",
    "except ImportError:\n",
    "    print(\"Basemap Not Available, no further plotting.\")\n",
    "else:\n",
    "    # Draw the stations on a real map of the Earth.\n",
    "    # Find boundaries \n",
    "    lon0 = 0.995*tab.long.min()\n",
    "    lon1 = 1.01*tab.long.max()\n",
    "    lat0 = 0.995*tab.lat.min()\n",
    "    lat1 = 1.01*tab.lat.max()\n",
    "    # Geographic grid to draw\n",
    "    parallels = np.linspace(lat0, lat1, 5)\n",
    "    meridians = np.linspace(lon0, lon1, 5)\n",
    "\n",
    "    # Resolution of the basemap to load ('f' is *very* expensive)\n",
    "    resolution = 'i' # intermediate resolution for map info\n",
    "\n",
    "    f2, ax2 = plt.subplots(figsize=(10,6))\n",
    "    m = Basemap(lon0, lat0, lon1, lat1, resolution=resolution, ax=ax2)\n",
    "    m.drawcountries(color=(1,1,0))  # country boundaries yellow\n",
    "    m.drawrivers(color=(0,1,1))  # rivers in cyan\n",
    "    m.bluemarble()  # NASA bluemarble image\n",
    "    m.drawparallels(parallels, labels=[1,0,0,0], fmt='%.2f')\n",
    "    m.drawmeridians(meridians, labels=[0,0,0,1], fmt='%.2f')\n",
    "    s = m.scatter(tab.long, tab.lat, s=sizes, c=tab.elev, zorder=10, alpha=0.6)\n",
    "    f2.colorbar(s)\n",
    "    ax2.set_title(ptitle)\n",
    "    for i, record in tab.iterrows():\n",
    "        ax2.text( record.long + 0.05, record.lat + 0.05, record.station, \n",
    "                weight='bold', color='yellow', zorder=10)"
   ]
  }
 ],
 "metadata": {
  "kernelspec": {
   "display_name": "Python 3",
   "language": "python",
   "name": "python3"
  },
  "language_info": {
   "codemirror_mode": {
    "name": "ipython",
    "version": 3
   },
   "file_extension": ".py",
   "mimetype": "text/x-python",
   "name": "python",
   "nbconvert_exporter": "python",
   "pygments_lexer": "ipython3",
   "version": "3.5.1"
  },
  "widgets": {
   "state": {},
   "version": "1.1.1"
  }
 },
 "nbformat": 4,
 "nbformat_minor": 0
}
