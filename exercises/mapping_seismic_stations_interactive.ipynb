{
 "cells": [
  {
   "cell_type": "markdown",
   "metadata": {},
   "source": [
    "# Mapping seismic stations in the Himalayas with Numpy and Matplotlib\n",
    "## Part II - Interactive event handling"
   ]
  },
  {
   "cell_type": "markdown",
   "metadata": {},
   "source": [
    "Here, we extend the plot above by adding an event handler that prints the location (four-letter string) of the station you click on.\n",
    "\n",
    "We use a threshold for distance, and discriminate between a click below threshold (considered to be 'on') vs a miss, in which case we indicate what the closest station is, its coordinates and the distance to it from the click.\n",
    "\n",
    "In order to get interactive plot windows that support event handling, we must restart the kernel and activate pylab but *not* in `inline` mode."
   ]
  },
  {
   "cell_type": "code",
   "execution_count": null,
   "metadata": {
    "collapsed": false
   },
   "outputs": [],
   "source": [
    "%matplotlib\n",
    "import sys\n",
    "import numpy as np\n",
    "import matplotlib.pyplot as plt"
   ]
  },
  {
   "cell_type": "markdown",
   "metadata": {},
   "source": [
    "We quickly reload the data using the same approach as in the previous exercise"
   ]
  },
  {
   "cell_type": "code",
   "execution_count": null,
   "metadata": {
    "collapsed": true
   },
   "outputs": [],
   "source": [
    "# Data descriptor to make a proper array.\n",
    "dt = [('station','S4'), ('lat',np.float32), ('lon',np.float32), ('elev',np.float32) ]\n",
    "data_fname = os.path.join('data', 'stations.txt')\n",
    "tab = np.loadtxt(data_fname, dt).view(np.recarray)"
   ]
  },
  {
   "cell_type": "markdown",
   "metadata": {},
   "source": [
    "We start by defining our `StationPicker` object that will do the job:"
   ]
  },
  {
   "cell_type": "code",
   "execution_count": null,
   "metadata": {
    "collapsed": false
   },
   "outputs": [],
   "source": [
    "class StationPicker(object):\n",
    "    def __init__(self, figure, stations, eps=0.10, axis=None):\n",
    "        self.figure = figure\n",
    "        self.stations = stations\n",
    "        self.cid = figure.canvas.mpl_connect('button_press_event', self)\n",
    "        if axis is None:\n",
    "            axis = figure.axes[0]\n",
    "        self.axis = axis\n",
    "        self.eps = eps\n",
    "\n",
    "    def __call__(self, event):\n",
    "        #print 'click', event  # dbg\n",
    "        if event.inaxes != self.axis:\n",
    "            return\n",
    "        self.figure.canvas.draw()\n",
    "        # Compute the distance from the click to all stations\n",
    "        lats = self.stations['lat']\n",
    "        longs = self.stations['lon']\n",
    "        click_lat, click_long = event.xdata, event.ydata\n",
    "        lat_d = lats - click_lat\n",
    "        lon_d = longs - click_long\n",
    "        dist = np.sqrt(lat_d**2 + lon_d**2)\n",
    "        nearest_i = dist.argmin()\n",
    "        near_dist = dist[nearest_i]\n",
    "        nearest = self.stations[nearest_i]\n",
    "        #print 'Nearest distance:', near_dist  # dbg\n",
    "        if near_dist < self.eps:\n",
    "            print (\"HIT! You clicked on\", nearest['station'])\n",
    "        else:\n",
    "            print (\"No hit, nearest is:\", nearest['station'])\n",
    "            print(\"It is at:\", nearest['lat'], nearest['lon'])\n",
    "            print (\"Distance to it:\", near_dist)\n",
    "        sys.stdout.flush()"
   ]
  },
  {
   "cell_type": "code",
   "execution_count": null,
   "metadata": {
    "collapsed": false
   },
   "outputs": [],
   "source": [
    "fig, ax = plt.subplots()\n",
    "ax.scatter(tab['lat'], tab['lon'], 40*(tab['elev']+1), c=tab['elev'] )\n",
    "# We can now make a picker with that binds the figure and the data\n",
    "StationPicker(fig, tab)"
   ]
  },
  {
   "cell_type": "code",
   "execution_count": null,
   "metadata": {
    "collapsed": true
   },
   "outputs": [],
   "source": []
  },
  {
   "cell_type": "code",
   "execution_count": null,
   "metadata": {
    "collapsed": true
   },
   "outputs": [],
   "source": []
  }
 ],
 "metadata": {
  "kernelspec": {
   "display_name": "Python 3",
   "language": "python",
   "name": "python3"
  },
  "language_info": {
   "codemirror_mode": {
    "name": "ipython",
    "version": 3
   },
   "file_extension": ".py",
   "mimetype": "text/x-python",
   "name": "python",
   "nbconvert_exporter": "python",
   "pygments_lexer": "ipython3",
   "version": "3.4.3"
  }
 },
 "nbformat": 4,
 "nbformat_minor": 0
}
