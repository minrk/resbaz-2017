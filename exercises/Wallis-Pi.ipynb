{
 "cells": [
  {
   "cell_type": "markdown",
   "metadata": {},
   "source": [
    "# Wallis' formula for $\\pi$\n",
    "\n",
    "Wallis' formula is a slowly converging infinite product that approximates pi as\n",
    "\n",
    "$$\n",
    "   \\pi = \\lim_{n \\rightarrow \\infty} 2 \\prod_{i=1}^{n}\\frac{4i^2}{4i^2-1}.\n",
    "$$\n",
    "\n",
    "While this isn't a particularly good way of computing $\\pi$ from a numerical\n",
    "standpoint, it provides for an excellent illustration of how Python's integers\n",
    "are more flexible and powerful than those typically found by default in\n",
    "compiled languages like C and Fortran.  The problem is that for\n",
    "this formula to be even remotely accurate, one must evaluate it for fairly\n",
    "large values of $n$, where both the numerator and the denominator will easily\n",
    "overflow the limits of 64-bit integers.  It is only after taking the ratio of\n",
    "these two huge numbers that the value is small (close to $\\pi$).\n",
    "\n",
    "Fortunately for us, Python integers automatically allocate as many digits as\n",
    "necessary (within the limits of physically available memory) to hold their\n",
    "result.  So while implementing the above in C or Fortran (without auxilliary\n",
    "libraries like [GMP](http://gmplib.org)) would be fairly tricky, in Python it's very\n",
    "straightforward.\n",
    "\n",
    "For this exercise, write a program that implements the above formula.  Note\n",
    "that Python's `math` module already contains $\\pi$ in double precision, so\n",
    "you can use this value to compare your results:"
   ]
  },
  {
   "cell_type": "code",
   "execution_count": 1,
   "metadata": {
    "collapsed": false
   },
   "outputs": [
    {
     "data": {
      "text/plain": [
       "3.141592653589793"
      ]
     },
     "execution_count": 1,
     "metadata": {},
     "output_type": "execute_result"
    }
   ],
   "source": [
    "import math\n",
    "math.pi"
   ]
  },
  {
   "cell_type": "markdown",
   "metadata": {},
   "source": [
    "Plot how the accuracy depends on $n$."
   ]
  }
 ],
 "metadata": {
  "kernelspec": {
   "display_name": "Python 3",
   "language": "python",
   "name": "python3"
  },
  "language_info": {
   "codemirror_mode": {
    "name": "ipython",
    "version": 3
   },
   "file_extension": ".py",
   "mimetype": "text/x-python",
   "name": "python",
   "nbconvert_exporter": "python",
   "pygments_lexer": "ipython3",
   "version": "3.4.3"
  }
 },
 "nbformat": 4,
 "nbformat_minor": 0
}
