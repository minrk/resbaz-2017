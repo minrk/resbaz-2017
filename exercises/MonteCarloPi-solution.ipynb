{
 "cells": [
  {
   "cell_type": "markdown",
   "metadata": {},
   "source": [
    "# Simple generation of $\\pi$ via MonteCarlo integration.\n",
    "\n",
    "We compute $\\pi$ as the area of a unit circle, and we compute this area by\n",
    "integration:\n",
    "\n",
    "$$\n",
    "\\pi = 4\\int_0^1{\\sqrt{1-x^2}}\n",
    "$$\n",
    "\n",
    "This integral can be then done via MonteCarlo integration.\n",
    "\n",
    "Define a function that approximates this integral by averaging N random samples of the integrand.\n",
    "\n",
    "*Hint* use the math and random modules from the std library."
   ]
  },
  {
   "cell_type": "code",
   "execution_count": null,
   "metadata": {
    "collapsed": true
   },
   "outputs": [],
   "source": [
    "import math\n",
    "import random\n",
    "\n",
    "def m_pi(n = 100000):\n",
    "    \"\"\"Approximate pi via monte carlo integration\"\"\"\n",
    "\n",
    "    rand = random.random\n",
    "    sqrt = math.sqrt\n",
    "    sm   = 0.0\n",
    "    for i in range(n):\n",
    "        sm += sqrt(1.0-rand()**2)\n",
    "    return 4.0*sm/n"
   ]
  },
  {
   "cell_type": "markdown",
   "metadata": {},
   "source": [
    "Print the results for the default sampling of N=100,000:"
   ]
  },
  {
   "cell_type": "code",
   "execution_count": 16,
   "metadata": {
    "collapsed": false
   },
   "outputs": [
    {
     "name": "stdout",
     "output_type": "stream",
     "text": [
      "π = 3.141592653589793\n",
      "π ~ 3.1443644521879284\n",
      "relative error: 0.0882291 % \n"
     ]
    }
   ],
   "source": [
    "print('π =', math.pi)\n",
    "approx = m_pi()\n",
    "print('π ~', approx)\n",
    "print('relative error: %g %% ' % (100*abs((approx-math.pi)/math.pi)) )"
   ]
  }
 ],
 "metadata": {
  "kernelspec": {
   "display_name": "Python 3",
   "language": "python",
   "name": "python3"
  },
  "language_info": {
   "codemirror_mode": {
    "name": "ipython",
    "version": 3
   },
   "file_extension": ".py",
   "mimetype": "text/x-python",
   "name": "python",
   "nbconvert_exporter": "python",
   "pygments_lexer": "ipython3",
   "version": "3.4.3"
  }
 },
 "nbformat": 4,
 "nbformat_minor": 0
}
