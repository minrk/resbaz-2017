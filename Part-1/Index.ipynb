{
 "cells": [
  {
   "cell_type": "markdown",
   "metadata": {},
   "source": [
    "<img src=\"images/ipython_logo.png\">"
   ]
  },
  {
   "cell_type": "markdown",
   "metadata": {},
   "source": [
    "# Day 1: Jupyter and IPython overview"
   ]
  },
  {
   "cell_type": "markdown",
   "metadata": {},
   "source": [
    "In this day, we will cover the core parts of Jupyter and IPython, including how to use the various frontends, the Jupyter notebook, and how the IPython kernel goes beyond the plain Python language.\n",
    "\n",
    "**Jupyter** includes the notebook interface and various other pieces which work with multiple programming languages. **IPython** is the Jupyter backend for running Python code."
   ]
  },
  {
   "cell_type": "markdown",
   "metadata": {},
   "source": [
    "## Getting started\n",
    "\n",
    "* An overview of the IPython project from [the official website](http://ipython.org).\n",
    "* [What is the Jupyter Notebook](Notebook/What is the Jupyter Notebook.ipynb)\n",
    "* [Notebook Basics](Notebook/Notebook Basics.ipynb)\n",
    "\n",
    "## Using IPython and the notebook as a live, interactive coding system\n",
    "\n",
    "* [Running Code](Notebook/Running Code.ipynb)\n",
    "* [Using input and %debug in the Notebook](IPython Kernel/Input%20in%20the%20Notebook.ipynb)\n",
    "* [IPython - beyond plain python](IPython Kernel/Beyond Plain Python.ipynb)\n",
    "* [Markdown Cells](Notebook/Working With Markdown Cells.ipynb)\n",
    "\n",
    "## Magics, specialized display and other tricks of IPython\n",
    "\n",
    "* [Plotting in the Notebook](IPython Kernel/Plotting in the Notebook.ipynb)\n",
    "    - **Exercise:** [Wallis' formula](exercises/Wallis-Pi.ipynb)\n",
    "    - **Exercise:** [Numerical chaos](exercises/NumericalChaos.ipynb)\n",
    "    - **Exercise:** [Image de-noising](exercises/fourier_moon_denoise.ipynb)\n",
    "* [Rich Display System](IPython Kernel/Rich Output.ipynb)\n",
    "* [Custom Display Logic](IPython Kernel/Custom Display Logic.ipynb)\n",
    "* [Cell Magics](IPython Kernel/Cell Magics.ipynb)\n",
    "* [Converting Notebooks With nbconvert](Notebook/Converting Notebooks With nbconvert.ipynb)\n",
    "* [Embedding](Embedding/Index.ipynb): Embedding and reusing IPython's components into other applications\n",
    "\n",
    "#### Exercise\n",
    "\n",
    "* [Mapping seismic stations](exercises/mapping_seismic_stations.ipynb)\n",
    "\n",
    "-------\n",
    "\n",
    "# Additional materials for supplementary reading\n",
    "\n",
    "* [Simple Animations Using clear_output](IPython%20Kernel/Animations%20Using%20clear_output.ipynb)\n",
    "* [Simple interactive bacgkround jobs with IPython](IPython%20Kernel/Background%20Jobs.ipynb)\n",
    "* [A few things that work best/only at the IPython terminal or Qt console clients](IPython%20Kernel/Terminal%20Usage.ipynb)\n",
    "* [Calling arbitrary system scripts with cell magics](IPython%20Kernel/Script%20Magics.ipynb)\n",
    "* [Third Party Libraries With Rich Output](IPython%20Kernel/Third%20Party%20Rich%20Output.ipynb)\n",
    "* [Combining symbolic and numerical computing in the IPython notebook with SymPy and NumPy](IPython%20Kernel/SymPy.ipynb)\n",
    "* [Configuring the Notebook and Server](Notebook/Configuring the Notebook and Server.ipynb)\n",
    "* [Custom Keyboard Shortcuts](Notebook/Custom Keyboard Shortcuts.ipynb)\n",
    "* [JavaScript Notebook Extensions](Notebook/JavaScript Notebook Extensions.ipynb)\n",
    "* [Using nbconvert as a Library](Notebook/Using nbconvert as a Library.ipynb)\n",
    "* [Typesetting Equations](Notebook/Typesetting%20Equations.ipynb)"
   ]
  },
  {
   "cell_type": "code",
   "execution_count": null,
   "metadata": {
    "collapsed": true
   },
   "outputs": [],
   "source": []
  }
 ],
 "metadata": {
  "kernelspec": {
   "display_name": "Python 3",
   "language": "python",
   "name": "python3"
  },
  "language_info": {
   "codemirror_mode": {
    "name": "ipython",
    "version": 3
   },
   "file_extension": ".py",
   "mimetype": "text/x-python",
   "name": "python",
   "nbconvert_exporter": "python",
   "pygments_lexer": "ipython3",
   "version": "3.5.2"
  }
 },
 "nbformat": 4,
 "nbformat_minor": 1
}
