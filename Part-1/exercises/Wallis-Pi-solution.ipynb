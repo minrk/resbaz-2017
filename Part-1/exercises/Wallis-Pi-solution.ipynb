{
 "cells": [
  {
   "cell_type": "markdown",
   "metadata": {},
   "source": [
    "# Wallis' formula for $\\pi$\n",
    "\n",
    "Wallis' formula is a slowly converging infinite product that approximates pi as\n",
    "\n",
    "$$\n",
    "   \\pi = \\lim_{n \\rightarrow \\infty} 2 \\prod_{i=1}^{n}\\frac{4i^2}{4i^2-1}.\n",
    "$$\n",
    "\n",
    "While this isn't a particularly good way of computing $\\pi$ from a numerical\n",
    "standpoint, it provides for an excellent illustration of how Python's integers\n",
    "are more flexible and powerful than those typically found by default in\n",
    "compiled languages like C and Fortran.  The problem is that for\n",
    "this formula to be even remotely accurate, one must evaluate it for fairly\n",
    "large values of $n$, where both the numerator and the denominator will easily\n",
    "overflow the limits of 64-bit integers.  It is only after taking the ratio of\n",
    "these two huge numbers that the value is small (close to $\\pi$).\n",
    "\n",
    "Fortunately for us, Python integers automatically allocate as many digits as\n",
    "necessary (within the limits of physically available memory) to hold their\n",
    "result.  So while impementing the above in C or Fortran (without auxilary\n",
    "libraries like [GMP](http://gmplib.org)) would be fairly tricky, in Python it's very\n",
    "straightforward.\n",
    "\n",
    "For this exercise, write a program that implements the above formula.  Note\n",
    "that Python's `math` module already contains $\\pi$ in double precision, so\n",
    "you can use this value to compare your results:"
   ]
  },
  {
   "cell_type": "code",
   "execution_count": 1,
   "metadata": {
    "collapsed": false
   },
   "outputs": [
    {
     "data": {
      "text/plain": [
       "3.141592653589793"
      ]
     },
     "execution_count": 1,
     "metadata": {},
     "output_type": "execute_result"
    }
   ],
   "source": [
    "import math\n",
    "math.pi"
   ]
  },
  {
   "cell_type": "markdown",
   "metadata": {},
   "source": [
    "# Solution\n",
    "\n",
    "Note that in the computation of $\\pi$, you must store the numerator and the denominator *separately* as integers, to take advantage of Python's arbitrary length integers, and only make the floating point division at the very end."
   ]
  },
  {
   "cell_type": "code",
   "execution_count": 9,
   "metadata": {
    "collapsed": true
   },
   "outputs": [],
   "source": [
    "def w_pi(n):\n",
    "    \"\"\"Compute pi using n terms of Wallis' product.\n",
    "\n",
    "    Wallis' formula approximates pi as\n",
    "\n",
    "    pi(n) = 2 \\prod_{i=1}^{n}\\frac{4i^2}{4i^2-1}.\"\"\"\n",
    "\n",
    "    num = 1\n",
    "    den = 1\n",
    "    for i in range(1,n+1):\n",
    "        tmp = 4*i*i\n",
    "        num *= tmp\n",
    "        den *= tmp-1\n",
    "    return 2.0*(num/den)"
   ]
  },
  {
   "cell_type": "markdown",
   "metadata": {},
   "source": [
    "A quick test:"
   ]
  },
  {
   "cell_type": "code",
   "execution_count": 10,
   "metadata": {
    "collapsed": false
   },
   "outputs": [
    {
     "data": {
      "text/plain": [
       "3.1408077460303945"
      ]
     },
     "execution_count": 10,
     "metadata": {},
     "output_type": "execute_result"
    }
   ],
   "source": [
    "w_pi(1000)"
   ]
  },
  {
   "cell_type": "markdown",
   "metadata": {},
   "source": [
    "And now a plot of the results:"
   ]
  },
  {
   "cell_type": "code",
   "execution_count": 8,
   "metadata": {
    "collapsed": false
   },
   "outputs": [
    {
     "data": {
      "image/png": "[encoded data removed]",
      "text/plain": [
       "<matplotlib.figure.Figure at 0x1066df240>"
      ]
     },
     "metadata": {},
     "output_type": "display_data"
    }
   ],
   "source": [
    "%matplotlib inline\n",
    "import matplotlib.pyplot as plt\n",
    "import numpy as np\n",
    "\n",
    "# Create a list of points 'nrange' where we'll compute Wallis' formula\n",
    "nrange = np.linspace(10,2000,20).astype(int)\n",
    "# Make an array of such values\n",
    "wpi = np.array(list(map(w_pi, nrange)))\n",
    "\n",
    "# Compute the difference against the value of pi in numpy (standard\n",
    "# 16-digit value)\n",
    "diff = abs(wpi-np.pi)\n",
    "\n",
    "# Build a semilog plot of the difference so we can see the quality\n",
    "# of the convergence\n",
    "# Line plot with red circles at the data points\n",
    "plt.semilogy(nrange,diff,'-o',mfc='red')\n",
    "\n",
    "# A bit of labeling and a grid\n",
    "plt.title(r\"Convergence of Wallis' product formula for $\\pi$\")\n",
    "plt.xlabel('Number of terms')\n",
    "plt.ylabel('Absolute Error')\n",
    "plt.grid()"
   ]
  }
 ],
 "metadata": {
  "kernelspec": {
   "display_name": "Python 3",
   "language": "python",
   "name": "python3"
  },
  "language_info": {
   "codemirror_mode": {
    "name": "ipython",
    "version": 3
   },
   "file_extension": ".py",
   "mimetype": "text/x-python",
   "name": "python",
   "nbconvert_exporter": "python",
   "pygments_lexer": "ipython3",
   "version": "3.4.3"
  }
 },
 "nbformat": 4,
 "nbformat_minor": 0
}
