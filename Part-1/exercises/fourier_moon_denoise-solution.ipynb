{
 "cells": [
  {
   "cell_type": "markdown",
   "metadata": {},
   "source": [
    "# Simple image denoising example using 2-dimensional FFT\n",
    "\n",
    "In this example we illustrate a very elementary type of image denoising \n",
    "with the two-dimensional Fourier Transform."
   ]
  },
  {
   "cell_type": "code",
   "execution_count": null,
   "metadata": {
    "collapsed": true
   },
   "outputs": [],
   "source": [
    "%matplotlib inline\n",
    "\n",
    "import sys\n",
    "import numpy as np\n",
    "import matplotlib.pyplot as plt"
   ]
  },
  {
   "cell_type": "code",
   "execution_count": null,
   "metadata": {
    "collapsed": true
   },
   "outputs": [],
   "source": [
    "def plot_spectrum(F, amplify=1000, ax=None):\n",
    "    \"\"\"Normalise, amplify and plot an amplitude spectrum.\"\"\"\n",
    "\n",
    "    # Note: the problem here is that we have a spectrum whose histogram is\n",
    "    # *very* sharply peaked at small values.  To get a meaningful display, a\n",
    "    # simple strategy to improve the display quality consists of simply\n",
    "    # amplifying the values in the array and then clipping.\n",
    "\n",
    "    # Compute the magnitude of the input F (call it mag).  Then, rescale mag by\n",
    "    # amplify/maximum_of_mag.\n",
    "    mag = abs(F) \n",
    "    mag *= amplify/mag.max() \n",
    "    \n",
    "    # Next, clip all values larger than one to one.\n",
    "    mag[mag > 1] = 1 \n",
    "\n",
    "    if ax is None: ax = plt.gca()\n",
    "    ax.imshow(mag, plt.cm.Blues)"
   ]
  },
  {
   "cell_type": "markdown",
   "metadata": {},
   "source": [
    "Read in original image, convert to floating point for further\n",
    "manipulation; imread returns a MxNx4 RGBA image.  Since the image is\n",
    "grayscale, just extract the 1st channel\n",
    "\n",
    "**Hints:**\n",
    "\n",
    "* use plt.imread() to load the file\n",
    "* convert to a float array with the .astype() method\n",
    "* extract all rows, all columns, 0-th plane to get the first\n",
    "   channel\n",
    "* the resulting array should have 2 dimensions only"
   ]
  },
  {
   "cell_type": "code",
   "execution_count": null,
   "metadata": {
    "collapsed": false
   },
   "outputs": [],
   "source": [
    "fname = 'data/moonlanding.png'\n",
    "im = plt.imread(fname).astype(float) \n",
    "print(\"Image shape: %s\" % str(im.shape))"
   ]
  },
  {
   "cell_type": "markdown",
   "metadata": {},
   "source": [
    "Compute the 2d FFT of the input image\n",
    "\n",
    "Hint: Look for a 2-d FFT in np.fft.\n",
    "\n",
    "Note: call this variable 'F', which is the name we'll be using below.\n",
    "\n",
    "In the lines following, we'll make a copy of the original spectrum and\n",
    "truncate coefficients.  "
   ]
  },
  {
   "cell_type": "code",
   "execution_count": null,
   "metadata": {
    "collapsed": true
   },
   "outputs": [],
   "source": [
    "F = np.fft.fft2(im)  \n",
    "\n",
    "# Define the fraction of coefficients (in each direction) we keep\n",
    "keep_fraction = 0.1\n",
    "\n",
    "# Call ff a copy of the original transform.  Numpy arrays have a copy\n",
    "# method for this purpose.\n",
    "ff = F.copy() \n",
    "\n",
    "# Set r and c to be the number of rows and columns of the array.\n",
    "r,c = ff.shape \n",
    "\n",
    "# Set to zero all rows with indices between r*keep_fraction and\n",
    "# r*(1-keep_fraction):\n",
    "ff[r*keep_fraction:r*(1-keep_fraction)] = 0  \n",
    "\n",
    "# Similarly with the columns:\n",
    "ff[:, c*keep_fraction:c*(1-keep_fraction)] = 0 "
   ]
  },
  {
   "cell_type": "markdown",
   "metadata": {},
   "source": [
    "Reconstruct the denoised image from the filtered spectrum, keep only the\n",
    "real part for display.\n",
    "Hint: There's an inverse 2d fft in the np.fft module as well (don't\n",
    "forget that you only want the real part).\n",
    "Call the result im_new and plot the results"
   ]
  },
  {
   "cell_type": "code",
   "execution_count": null,
   "metadata": {
    "collapsed": false
   },
   "outputs": [],
   "source": [
    "im_new = np.fft.ifft2(ff).real  \n",
    "\n",
    "fig, ax = plt.subplots(2, 2, figsize=(10,7))\n",
    "\n",
    "ax[0,0].set_title('Original image')\n",
    "ax[0,0].imshow(im, plt.cm.gray)\n",
    "\n",
    "ax[0,1].set_title('Fourier transform')\n",
    "plot_spectrum(F, ax=ax[0,1])\n",
    "\n",
    "ax[1,1].set_title('Filtered Spectrum')\n",
    "plot_spectrum(ff, ax=ax[1,1])\n",
    "\n",
    "ax[1,0].set_title('Reconstructed Image')\n",
    "ax[1,0].imshow(im_new, plt.cm.gray);"
   ]
  }
 ],
 "metadata": {
  "kernelspec": {
   "display_name": "Python 3",
   "language": "python",
   "name": "python3"
  },
  "language_info": {
   "codemirror_mode": {
    "name": "ipython",
    "version": 3
   },
   "file_extension": ".py",
   "mimetype": "text/x-python",
   "name": "python",
   "nbconvert_exporter": "python",
   "pygments_lexer": "ipython3",
   "version": "3.4.3"
  }
 },
 "nbformat": 4,
 "nbformat_minor": 0
}
