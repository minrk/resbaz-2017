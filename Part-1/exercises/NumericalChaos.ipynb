{
 "cells": [
  {
   "cell_type": "markdown",
   "metadata": {},
   "source": [
    "# Numerical chaos in the logistic map and floating point error\n",
    "\n",
    "One of the most classic examples of chaotic behavior in non-linear\n",
    "systems is the iteration of the logistic map\n",
    "\n",
    "$$\n",
    "x_{n+1} = f(x_n) = r x_n (1-x_n)\n",
    "$$\n",
    "\n",
    "which for $x \\in (0,1)$ and $r \\in (0,4)$ can produce very surprising\n",
    "behavior. For now we use this system to illustrate numerical\n",
    "roundoff error.\n",
    "\n",
    "Computers, when performing almost any floating point operation, must by\n",
    "necessity throw away information from the digits that can't be stored at\n",
    "any finite precision. This has a simple implication that is nonetheless\n",
    "often overlooked: algebraically equivalent forms of the same expression\n",
    "aren't necessarily always numerically equivalent. A simple illustration\n",
    "shows the problem very easily:\n",
    "\n",
    "For this exercise, try to find three different ways to express $f(x)$\n",
    "in the logistic map and compute the evolution of the same initial condition\n",
    "after a few hundred iterations. For this problem, it will be extremely\n",
    "useful to look at your results graphically; simply build lists of\n",
    "numbers and call matplotlib's `plot` function to look at how each trace\n",
    "evolves.\n",
    "\n",
    "The following snippet can be used as a starting point, and it includes\n",
    "some hints of what values of $r$ to look at:"
   ]
  },
  {
   "cell_type": "code",
   "execution_count": 7,
   "metadata": {
    "collapsed": true
   },
   "outputs": [],
   "source": [
    "\"\"\"Illustrating error propagation by iterating the logistic map.\n",
    "\n",
    "f(x) = r*x*(1-x)\n",
    "\n",
    "Write the above function in three algebraically equivalent forms, and study\n",
    "their behavior under iteration.  See for what values of r all forms evolve\n",
    "identically and for which ones they don't.\n",
    "\"\"\"\n",
    "\n",
    "import matplotlib.pyplot as plt\n",
    "\n",
    "# Interesting values to try for r:\n",
    "# [1.9, 2.9, 3.1, 3.5, 3.9]\n",
    "r = 3.9 # global default\n",
    "x0 = 0.6  # any number in [0,1] will do here\n",
    "num_points = 100  # total number of points to compute\n",
    "drop_points = 0  # don't display the first drop_points"
   ]
  },
  {
   "cell_type": "markdown",
   "metadata": {},
   "source": [
    "The three algebraically, but not numerically, equivalent forms of $f(x)$:"
   ]
  },
  {
   "cell_type": "code",
   "execution_count": 4,
   "metadata": {
    "collapsed": true
   },
   "outputs": [],
   "source": [
    "def f1(x): return # Your code here\n",
    "def f2(x): return # Your code here\n",
    "def f3(x): return # Your code here"
   ]
  },
  {
   "cell_type": "markdown",
   "metadata": {},
   "source": [
    "Now, we compute and plot results with these three forms of $f(x)$:"
   ]
  },
  {
   "cell_type": "code",
   "execution_count": 1,
   "metadata": {
    "collapsed": false
   },
   "outputs": [],
   "source": [
    "%matplotlib inline\n",
    "\n",
    " # Your code here"
   ]
  }
 ],
 "metadata": {
  "kernelspec": {
   "display_name": "Python 3",
   "language": "python",
   "name": "python3"
  },
  "language_info": {
   "codemirror_mode": {
    "name": "ipython",
    "version": 3
   },
   "file_extension": ".py",
   "mimetype": "text/x-python",
   "name": "python",
   "nbconvert_exporter": "python",
   "pygments_lexer": "ipython3",
   "version": "3.4.3"
  }
 },
 "nbformat": 4,
 "nbformat_minor": 0
}
